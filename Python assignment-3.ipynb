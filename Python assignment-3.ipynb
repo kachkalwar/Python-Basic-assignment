{
 "cells": [
  {
   "cell_type": "markdown",
   "metadata": {},
   "source": [
    "1.Why are functions advantageous to have in your programs?\n",
    "\n",
    "A function is a block of reusable code that is used to perform a specific action. The advantages of using functions are:\n",
    "\n",
    "Reducing duplication of code\n",
    "Decomposing complex problems into simpler pieces\n",
    "Improving clarity of the code\n",
    "Reuse of code\n",
    "Information hiding"
   ]
  },
  {
   "cell_type": "markdown",
   "metadata": {},
   "source": [
    "2. When does the code in a function run: when it's specified or when it's called?\n",
    "A function is created with the def keyword. The statements in the block of the function must be indented.\n",
    "\n",
    "def function():\n",
    "    pass\n",
    "    The function is later executed when needed. We say that we call the function. If we call a function, the statements inside the function body are executed. They are not executed until the function is called.\n",
    "\n",
    "myfunc()\n",
    "\n",
    "eg. def bacon(): ## defining function\n",
    "    print(\"spam\")\n",
    "    \n",
    "bacon()   ## calling function"
   ]
  },
  {
   "cell_type": "markdown",
   "metadata": {},
   "source": [
    "3.What statement creates a function?\n",
    "\n",
    "def keyword is used to define function\n",
    "\n",
    "eg.\n",
    "def bacon():\n",
    "    print(\"spam\")\n",
    "    \n",
    "bacon()"
   ]
  },
  {
   "cell_type": "markdown",
   "metadata": {},
   "source": [
    "4.What is the difference between a function and a function call?\n",
    " \n",
    "The calling function contains the input (the actual parameters) which is given to the called function which then works on them because it contains the definition, performs the procedure specified and returns if anything is to be returned."
   ]
  },
  {
   "cell_type": "markdown",
   "metadata": {},
   "source": [
    "5.How many global scopes are there in a Python program? How many local scopes?\n",
    "One global and one local scopes are there in python"
   ]
  },
  {
   "cell_type": "markdown",
   "metadata": {},
   "source": [
    "6. What happens to variables in a local scope when the function call returns?\n",
    "\n",
    "By default, the assignment statement creates variables in the local scope. \n",
    "So the assignment inside the function does not modify the global variable a  \n",
    "it creates a new local variable called a, and assigns the value 3 to that variable. "
   ]
  },
  {
   "cell_type": "code",
   "execution_count": 2,
   "metadata": {},
   "outputs": [
    {
     "name": "stdout",
     "output_type": "stream",
     "text": [
      "3\n"
     ]
    }
   ],
   "source": [
    "a = 0\n",
    "\n",
    "def my_function():\n",
    "    global a\n",
    "    a = 3\n",
    "     print(a)\n",
    "\n",
    "my_function()\n",
    "\n",
    "print(a)"
   ]
  },
  {
   "cell_type": "markdown",
   "metadata": {},
   "source": [
    "7.What is the concept of a return value? Is it possible to have a return value in an expression?\n",
    "\n",
    "A return statement is used to end the execution of the function call and “returns” the result (value of the expression following the return keyword) to the caller. If the return statement is without any expression, then the special value None is returned."
   ]
  },
  {
   "cell_type": "markdown",
   "metadata": {},
   "source": [
    "8.If a function does not have a return statement, what is the return value of a call to that function\n",
    "\n",
    "If no return statement appears in a function definition, control automatically returns to the calling function after the last statement of the called function is executed. In this case, the return value of the called function is undefined"
   ]
  },
  {
   "cell_type": "markdown",
   "metadata": {},
   "source": [
    "9.How do you make a function variable refer to the global variable\n",
    "\n",
    "Variables that are created outside of a function (as in all of the examples above) are known as global variables.\n",
    "\n",
    "Global variables can be used by everyone, both inside of functions and outside.\n",
    "\n",
    "Create a variable outside of a function, and use it inside the function.\n"
   ]
  },
  {
   "cell_type": "code",
   "execution_count": 4,
   "metadata": {},
   "outputs": [
    {
     "name": "stdout",
     "output_type": "stream",
     "text": [
      "Python is awesome\n"
     ]
    }
   ],
   "source": [
    "x = \"awesome\"\n",
    "\n",
    "def myfunc():\n",
    "  print(\"Python is \" + x)\n",
    "\n",
    "myfunc()"
   ]
  },
  {
   "cell_type": "markdown",
   "metadata": {},
   "source": [
    "10. What is the data type of None?\n",
    "\n",
    "The None keyword is used to define a null variable or an object. In Python, None keyword is an object, and it is a data type of the class NoneType "
   ]
  },
  {
   "cell_type": "markdown",
   "metadata": {},
   "source": [
    "11.What does the sentence import areallyourpetsnamederic do?\n",
    "\n",
    "A global statement will force a variable in a function to refer to the global variable. The data type of None is NoneType . That import statement imports a module named areallyourpetsnamederic ."
   ]
  },
  {
   "cell_type": "markdown",
   "metadata": {},
   "source": [
    "12.If you had a bacon() feature in a spam module, what would you call it after importing spam?\n",
    "\n",
    "Module a in a.py:\n",
    "def becon():\n",
    "    print('spam')\n",
    "\n",
    "Module b in b.py uses module a:\n",
    "import a\n",
    "\n",
    "a.becon()  # prints \"spam\""
   ]
  },
  {
   "cell_type": "markdown",
   "metadata": {},
   "source": [
    "13.What can you do to save a programme from crashing if it encounters an error?\n",
    "\n",
    "Try running the program and it should throw an error message instead of crashing the program. The reason for the exception is also returned as an exception message. In the above code, we have handled the file reading inside an IOError exception handler."
   ]
  },
  {
   "cell_type": "markdown",
   "metadata": {},
   "source": [
    "14.What is the purpose of the try clause? What is the purpose of the except clause?\n",
    "\n",
    "The try block lets you test a block of code for errors. The except block lets you handle the error."
   ]
  },
  {
   "cell_type": "code",
   "execution_count": null,
   "metadata": {},
   "outputs": [],
   "source": []
  },
  {
   "cell_type": "code",
   "execution_count": null,
   "metadata": {},
   "outputs": [],
   "source": []
  },
  {
   "cell_type": "code",
   "execution_count": null,
   "metadata": {},
   "outputs": [],
   "source": []
  },
  {
   "cell_type": "code",
   "execution_count": null,
   "metadata": {},
   "outputs": [],
   "source": []
  }
 ],
 "metadata": {
  "kernelspec": {
   "display_name": "Python 3",
   "language": "python",
   "name": "python3"
  },
  "language_info": {
   "codemirror_mode": {
    "name": "ipython",
    "version": 3
   },
   "file_extension": ".py",
   "mimetype": "text/x-python",
   "name": "python",
   "nbconvert_exporter": "python",
   "pygments_lexer": "ipython3",
   "version": "3.8.5"
  }
 },
 "nbformat": 4,
 "nbformat_minor": 2
}
